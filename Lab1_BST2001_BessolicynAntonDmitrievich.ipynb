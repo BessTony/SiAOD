{
 "cells": [
  {
   "cell_type": "markdown",
   "id": "45ab4df7",
   "metadata": {},
   "source": [
    "# Лабораторная работа №1\n",
    "## Выполнил студент группы БСТ2001 Бессолицын Антон Дмитриевич\n",
    "### Задание №1\n",
    "Вывести надпись \"Hello, world!\""
   ]
  },
  {
   "cell_type": "code",
   "execution_count": 50,
   "id": "29fabb9f",
   "metadata": {},
   "outputs": [
    {
     "name": "stdout",
     "output_type": "stream",
     "text": [
      "Hello, World!\n"
     ]
    }
   ],
   "source": [
    "print(\"Hello, World!\")"
   ]
  },
  {
   "cell_type": "markdown",
   "id": "0f31970c",
   "metadata": {},
   "source": [
    "### Задание №2\n",
    "Написать генератор случайных матриц(многомерных), который принимает опциональные параметры m,n,min_limit,max_limit, где m и n указывают размер матрицы, а min_lim и max_lim - минимальное и максимальное значение для генерируемого числа\n",
    "\n"
   ]
  },
  {
   "cell_type": "code",
   "execution_count": 51,
   "id": "8015154d",
   "metadata": {
    "scrolled": true
   },
   "outputs": [
    {
     "name": "stdout",
     "output_type": "stream",
     "text": [
      "\n",
      "\n",
      "Введите m: 5\n",
      "Введите n: 6\n",
      "Введите минимальное значение: -100\n",
      "Введите максимальное значение: 1005\n"
     ]
    }
   ],
   "source": [
    "m=50\n",
    "n=50\n",
    "min_limit=-250\n",
    "max_limit=1005\n",
    "\n",
    "sM=input(\"\\n\\nВведите m: \")\n",
    "if len(sM)>0: m=int(sM)\n",
    "\n",
    "sN=input(\"Введите n: \")\n",
    "if len(sN)>0: n=int(sN)\n",
    "    \n",
    "while True:\n",
    "    sMin_limit=input(\"Введите минимальное значение: \")\n",
    "    if len(sMin_limit)>0: min_limit=int(sMin_limit)\n",
    "\n",
    "    sMax_limit=input(\"Введите максимальное значение: \")\n",
    "    if len(sMax_limit)>0: max_limit=int(sMax_limit)\n",
    "            \n",
    "    if (min_limit<=max_limit): break\n",
    "    else: print(\"\\nМинимальный элемент не может быть больше больше максимального, повторите попытку\\n\")"
   ]
  },
  {
   "cell_type": "code",
   "execution_count": 52,
   "id": "2fdf52fc",
   "metadata": {},
   "outputs": [],
   "source": [
    "import random   \n",
    "\n",
    "def generate(m, n, min_limit, max_limit):\n",
    "    arr = []\n",
    "    for i in range(m):\n",
    "        arr.append([0]*n)\n",
    "\n",
    "    for i in range(m):\n",
    "        for j in range(n):\n",
    "            arr[i][j] = random.randint(min_limit, max_limit)\n",
    "    return arr\n",
    "\n"
   ]
  },
  {
   "cell_type": "markdown",
   "id": "a1548367",
   "metadata": {},
   "source": [
    "### Задание №3\n",
    "Реализовать методы сортировки строк числовой матрицы в соответствии с заданием. Оценить время работы каждого алгоритма сортировки и сравнить его со временем стандартной функции сортировки. Испытания проводить на сгенерированных матрицах.\n"
   ]
  },
  {
   "cell_type": "markdown",
   "id": "606a7517",
   "metadata": {},
   "source": [
    "### Сортировка выбором\n",
    "\n"
   ]
  },
  {
   "cell_type": "code",
   "execution_count": 53,
   "id": "c03ffb96",
   "metadata": {},
   "outputs": [],
   "source": [
    "def SelectSort(arr):\n",
    "    array=arr.copy()\n",
    "    for i in range(len(array)):\n",
    "        for j in range(len(array[i])-1):\n",
    "            min=j\n",
    "            for h in range (j+1,n):\n",
    "                if (array[i][h]<array[i][min]):\n",
    "                    min=h\n",
    "            temp=array[i][j]\n",
    "            array[i][j]=array[i][min]\n",
    "            array[i][min]=temp\n",
    "    return array"
   ]
  },
  {
   "cell_type": "markdown",
   "id": "f594257b",
   "metadata": {},
   "source": [
    "### Сортировка вставкой"
   ]
  },
  {
   "cell_type": "code",
   "execution_count": 54,
   "id": "d9dd5389",
   "metadata": {},
   "outputs": [],
   "source": [
    "def InsertionSort(arr):\n",
    "    array=arr.copy()\n",
    "    for i in range(len(array)):\n",
    "        for j in range(len(array[i])):\n",
    "            temp=array[i][j]\n",
    "            index=j\n",
    "            while (temp<array[i][index-1]) and (index>0):\n",
    "                array[i][index]=array[i][index-1]\n",
    "                index-=1\n",
    "            array[i][index]=temp\n",
    "    return array"
   ]
  },
  {
   "cell_type": "markdown",
   "id": "5f324edc",
   "metadata": {},
   "source": [
    "### Сортировка обменом\n"
   ]
  },
  {
   "cell_type": "code",
   "execution_count": 55,
   "id": "bbe76d14",
   "metadata": {},
   "outputs": [],
   "source": [
    "def BubbleSort(arr):\n",
    "    array=arr.copy()\n",
    "    for i in range(len(array)):\n",
    "        for j in range(len(array[i])):\n",
    "            for h in range(len(array[i])-j-1):\n",
    "                if(array[i][h+1]<array[i][h]):\n",
    "                    temp = array[i][h]\n",
    "                    array[i][h] = array[i][h+1]\n",
    "                    array[i][h+1] = temp\n",
    "\n",
    "    return array"
   ]
  },
  {
   "cell_type": "markdown",
   "id": "23cab046",
   "metadata": {},
   "source": [
    "### Сортировка Шелла"
   ]
  },
  {
   "cell_type": "code",
   "execution_count": 56,
   "id": "ead1f719",
   "metadata": {},
   "outputs": [],
   "source": [
    "def ShellSort(arr):\n",
    "    array=arr.copy()\n",
    "    for i in range(len(array)):\n",
    "        d=int(len(array[i])/2)\n",
    "        while d>0:\n",
    "            for j in range(len(array[i])):\n",
    "                for h in range(int(j+d),len(array[i]),d):\n",
    "                    if array[i][j]>array[i][h]:\n",
    "                        temp=array[i][j]\n",
    "                        array[i][j]=array[i][h]\n",
    "                        array[i][h]=temp\n",
    "            \n",
    "            d=int(d/2)\n",
    "    return array"
   ]
  },
  {
   "cell_type": "markdown",
   "id": "6a9e89f1",
   "metadata": {},
   "source": [
    "### Турнирная cортировка"
   ]
  },
  {
   "cell_type": "code",
   "execution_count": 57,
   "id": "1064c79d",
   "metadata": {},
   "outputs": [],
   "source": [
    "def TournamentSort(array):\n",
    "    arr= array.copy()\n",
    "    for i in range(len(arr)):\n",
    "        tournamentSort(arr[i])\n",
    "    return arr\n",
    "def tournamentSort(arr):\n",
    "    tree = [None] * 2 * (len(arr) + len(arr) % 2)\n",
    "    index = len(tree) - len(arr) - len(arr) % 2\n",
    "    \n",
    "    for i, v in enumerate(arr):\n",
    "        tree[index + i] = (i, v)\n",
    "    \n",
    "    for j in range(len(arr)):\n",
    "        n = len(arr)\n",
    "        index = len(tree) - len(arr) - len(arr) % 2\n",
    "        while index > -1:\n",
    "            n = (n + 1) // 2\n",
    "            for i in range(n):\n",
    "                i = max(index + i * 2, 1) \n",
    "                if tree[i] != None and tree[i + 1] != None:\n",
    "                    if tree[i][1] < tree[i + 1][1]:\n",
    "                        tree[i // 2] = tree[i]\n",
    "                    else:\n",
    "                        tree[i // 2] = tree[i + 1]\n",
    "                else:\n",
    "                    tree[i // 2] = tree[i] if tree[i] != None else tree[i + 1]\n",
    "            index -= n\n",
    "\n",
    "        index, x = tree[0]\n",
    "        arr[j] = x\n",
    "        tree[len(tree) - len(arr) - len(arr) % 2 + index] = None"
   ]
  },
  {
   "cell_type": "markdown",
   "id": "0ec1cd11",
   "metadata": {},
   "source": [
    "###  Быстрая cортировка"
   ]
  },
  {
   "cell_type": "code",
   "execution_count": 58,
   "id": "7e627299",
   "metadata": {},
   "outputs": [],
   "source": [
    "def QuickSort(array):\n",
    "    arr=array.copy()\n",
    "    for i in range(len(arr)):\n",
    "        quickSort(0,len(arr[i])-1,arr,i)\n",
    "    return arr\n",
    "\n",
    "def quickSort(_first, _last, array, row):\n",
    "    first=int(_first)\n",
    "    last=int(_last)\n",
    "    middle=int((first+last)/2)\n",
    "    \n",
    "    while (first<last):\n",
    "        \n",
    "        while( array[row][first] < array[row][middle]): \n",
    "            first+=1\n",
    "        while( array[row][last] > array[row][middle]):\n",
    "            last-=1\n",
    "        if(first<=last):\n",
    "            array[row][first],array[row][last]=array[row][last],array[row][first]\n",
    "            first+=1\n",
    "            last-=1\n",
    "    \n",
    "    if(_first<last):\n",
    "        quickSort(_first,last,array,row)\n",
    "    if(first<_last):\n",
    "        quickSort(first,_last,array,row)"
   ]
  },
  {
   "cell_type": "markdown",
   "id": "9ad92e31",
   "metadata": {},
   "source": [
    "### Пирамидальная cортировка"
   ]
  },
  {
   "cell_type": "code",
   "execution_count": 59,
   "id": "26305f71",
   "metadata": {},
   "outputs": [],
   "source": [
    "def heapify(arr, n, i):\n",
    "    largest = i\n",
    "    l = 2 * i + 1\n",
    "    r = 2 * i + 2\n",
    "\n",
    "    if l < n and arr[i] < arr[l]:\n",
    "        largest = l\n",
    "\n",
    "    if r < n and arr[largest] < arr[r]:\n",
    "        largest = r\n",
    "\n",
    "    if largest != i:\n",
    "        arr[i],arr[largest] = arr[largest],arr[i]\n",
    "\n",
    "        heapify(arr, n, largest)\n",
    "\n",
    "\n",
    "def HeapSort(array):\n",
    "    arr=array.copy()\n",
    "    for i in range(len(arr)):\n",
    "        n = len(arr[i])\n",
    "\n",
    "        for j in range(n, -1, -1):\n",
    "            heapify(arr[i], n, j)\n",
    "\n",
    "        for j in range(n-1, 0, -1):\n",
    "            arr[i][j], arr[i][0] = arr[i][0], arr[i][j] \n",
    "            heapify(arr[i], j, 0)\n",
    "    return arr"
   ]
  },
  {
   "cell_type": "code",
   "execution_count": 62,
   "id": "8bfefd22",
   "metadata": {},
   "outputs": [
    {
     "name": "stdout",
     "output_type": "stream",
     "text": [
      "[[214, 412, -5, 123, 825, 810], [977, 393, 1005, 410, 817, 990], [425, 123, 527, 620, -62, 66], [171, 210, 688, -32, 673, 157], [330, 789, 392, 68, 855, 947]]\n",
      "[[-5, 123, 214, 412, 810, 825], [393, 410, 817, 977, 990, 1005], [-62, 66, 123, 425, 527, 620], [-32, 157, 171, 210, 673, 688], [68, 330, 392, 789, 855, 947]]\n",
      "Сортировка выбором выполнилась за 0.00022600000011152588 секунд\n",
      "[[-5, 123, 214, 412, 810, 825], [393, 410, 817, 977, 990, 1005], [-62, 66, 123, 425, 527, 620], [-32, 157, 171, 210, 673, 688], [68, 330, 392, 789, 855, 947]]\n",
      "Сортировка вставкой выполнилась за 0.000248900000769936 секунд\n",
      "[[-5, 123, 214, 412, 810, 825], [393, 410, 817, 977, 990, 1005], [-62, 66, 123, 425, 527, 620], [-32, 157, 171, 210, 673, 688], [68, 330, 392, 789, 855, 947]]\n",
      "Сортировка обменом выполнилась за 0.00017010000010486692 секунд\n",
      "[[-5, 123, 214, 412, 810, 825], [393, 410, 817, 977, 990, 1005], [-62, 66, 123, 425, 527, 620], [-32, 157, 171, 210, 673, 688], [68, 330, 392, 789, 855, 947]]\n",
      "Сортировка Шелла выполнилась за 0.00020680000034190016 секунд\n",
      "[[-5, 123, 214, 412, 810, 825], [393, 410, 817, 977, 990, 1005], [-62, 66, 123, 425, 527, 620], [-32, 157, 171, 210, 673, 688], [68, 330, 392, 789, 855, 947]]\n",
      "Турнирная cортировка выполнилась за 0.00041599999985919567 секунд\n",
      "[[-5, 123, 214, 412, 810, 825], [393, 410, 817, 977, 990, 1005], [-62, 66, 123, 425, 527, 620], [-32, 157, 171, 210, 673, 688], [68, 330, 392, 789, 855, 947]]\n",
      "Быстрая cортировка выполнилась за 0.00018170000021200394 секунд\n",
      "[[-5, 123, 214, 412, 810, 825], [393, 410, 817, 977, 990, 1005], [-62, 66, 123, 425, 527, 620], [-32, 157, 171, 210, 673, 688], [68, 330, 392, 789, 855, 947]]\n",
      "Пирамидальная cортировка выполнилась за 0.00041729999975359533 секунд\n",
      "[[-5, 123, 214, 412, 810, 825], [393, 410, 817, 977, 990, 1005], [-62, 66, 123, 425, 527, 620], [-32, 157, 171, 210, 673, 688], [68, 330, 392, 789, 855, 947]]\n",
      "Стандартная функция сортировки выполнилась за 0.0002372999997533043 секунд\n"
     ]
    }
   ],
   "source": [
    "import timeit\n",
    "arr = generate(m, n, min_limit, max_limit)\n",
    "print(arr)\n",
    "\n",
    "start_time = timeit.default_timer()\n",
    "SelectSort(arr)\n",
    "print(arr)\n",
    "time_2 = timeit.default_timer() - start_time\n",
    "print(\"Сортировка выбором выполнилась за \" + str(time_2) + \" секунд\")\n",
    "\n",
    "start_time = timeit.default_timer()\n",
    "InsertionSort(arr)\n",
    "print(arr)\n",
    "time_2 = timeit.default_timer() - start_time\n",
    "print(\"Сортировка вставкой выполнилась за \" + str(time_2) + \" секунд\")\n",
    "\n",
    "start_time = timeit.default_timer()\n",
    "BubbleSort(arr)\n",
    "print(arr)\n",
    "time_2 = timeit.default_timer() - start_time\n",
    "print(\"Сортировка обменом выполнилась за \" + str(time_2) + \" секунд\")\n",
    "\n",
    "start_time = timeit.default_timer()\n",
    "ShellSort(arr)\n",
    "print(arr)\n",
    "time_2 = timeit.default_timer() - start_time\n",
    "print(\"Сортировка Шелла выполнилась за \" + str(time_2) + \" секунд\")\n",
    "\n",
    "start_time = timeit.default_timer()\n",
    "TournamentSort(arr)\n",
    "print(arr)\n",
    "time_2 = timeit.default_timer() - start_time\n",
    "print(\"Турнирная cортировка выполнилась за \" + str(time_2) + \" секунд\")\n",
    "\n",
    "start_time = timeit.default_timer()\n",
    "QuickSort(arr)\n",
    "print(arr)\n",
    "time_2 = timeit.default_timer() - start_time\n",
    "print(\"Быстрая cортировка выполнилась за \" + str(time_2) + \" секунд\")\n",
    "\n",
    "start_time = timeit.default_timer()\n",
    "HeapSort(arr)\n",
    "print(arr)\n",
    "time_2 = timeit.default_timer() - start_time\n",
    "print(\"Пирамидальная cортировка выполнилась за \" + str(time_2) + \" секунд\")\n",
    "\n",
    "start_time = timeit.default_timer()\n",
    "for i in range(len(arr)):\n",
    "    sorted(arr[i])\n",
    "print(arr)\n",
    "time_2 = timeit.default_timer() - start_time\n",
    "print(\"Стандартная функция сортировки выполнилась за \" + str(time_2) + \" секунд\")\n",
    "\n",
    "\n"
   ]
  },
  {
   "cell_type": "markdown",
   "id": "0174bbad",
   "metadata": {},
   "source": [
    "### Задание №4 \n",
    "Создать публичный репозиторий на github, и запушить выполненное задание в .ipynb формате."
   ]
  },
  {
   "cell_type": "markdown",
   "id": "a67ea115",
   "metadata": {},
   "source": [
    "Задание №4 выполнено."
   ]
  },
  {
   "cell_type": "markdown",
   "id": "78925284",
   "metadata": {},
   "source": [
    "### Вывод \n",
    "Были изучены методы сортировки многомерных матриц. Все методы сортировки использованные в лабораторной работе, работают исправно."
   ]
  }
 ],
 "metadata": {
  "kernelspec": {
   "display_name": "Python 3 (ipykernel)",
   "language": "python",
   "name": "python3"
  },
  "language_info": {
   "codemirror_mode": {
    "name": "ipython",
    "version": 3
   },
   "file_extension": ".py",
   "mimetype": "text/x-python",
   "name": "python",
   "nbconvert_exporter": "python",
   "pygments_lexer": "ipython3",
   "version": "3.9.7"
  }
 },
 "nbformat": 4,
 "nbformat_minor": 5
}
